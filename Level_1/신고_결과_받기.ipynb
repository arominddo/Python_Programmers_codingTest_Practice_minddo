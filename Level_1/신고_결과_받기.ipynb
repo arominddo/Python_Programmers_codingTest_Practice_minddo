{
 "cells": [
  {
   "cell_type": "code",
   "execution_count": 1,
   "metadata": {},
   "outputs": [],
   "source": [
    "def solution(id_list, report, k):\n",
    "    # 받은 메일 수\n",
    "    answer = []\n",
    "    \n",
    "    # id에 따른 신고자 목록\n",
    "    id_dic = {}\n",
    "    \n",
    "    # 각 id별 신고 받은 횟수 목록\n",
    "    report_dic={}\n",
    "    \n",
    "    # 위 목록들 기본 값 생성\n",
    "    for id in id_list:\n",
    "        id_dic[id] = []\n",
    "        report_dic[id] = 0\n",
    "        answer.append(0)\n",
    "        \n",
    "    # report 리스트의 값을 불러와 신고자와 피신고자 구분\n",
    "    for i in range(len(report)):\n",
    "        tmp = list(report[i].split(\" \"))\n",
    "        if (tmp[1] in id_dic[tmp[0]]) :         # 피신고자가 신고자 목록에 있는지 구분\n",
    "            continue\n",
    "        \n",
    "        # 피신고자가 신고자 목록에 없다면 추가 후,피신고 횟수 추가\n",
    "        else :                                  \n",
    "            report_dic[tmp[1]] += 1\n",
    "            id_dic[tmp[0]].append(tmp[1])\n",
    "    \n",
    "    \n",
    "    \n",
    "    warn_member = []    # k만큼 넘은 신고 대상자 리스트\n",
    "    \n",
    "    \n",
    "    # 피신고자가 신고 당한 횟수가 k번을 넘는지 판별\n",
    "    for i in range(len(id_list)):\n",
    "        if(report_dic[id_list[i]]>=k):\n",
    "            warn_member.append(id_list[i])  # 기준을 넘었다면 warn_member리스트에 추가\n",
    "            \n",
    "    \n",
    "    # 신고자가 신고한 대상이 정지 대상이 되었다면 메일 발송 횟수 추가\n",
    "    for i in range(len(id_list)):\n",
    "        for j in warn_member:\n",
    "            if(j in id_dic[id_list[i]]):\n",
    "                answer[i] += 1\n",
    "\n",
    "    return answer"
   ]
  },
  {
   "cell_type": "code",
   "execution_count": 2,
   "metadata": {},
   "outputs": [
    {
     "data": {
      "text/plain": [
       "[2, 1, 1, 0]"
      ]
     },
     "execution_count": 2,
     "metadata": {},
     "output_type": "execute_result"
    }
   ],
   "source": [
    "id_list = [\"muzi\", \"frodo\", \"apeach\", \"neo\"]\n",
    "report = [\"muzi frodo\",\"apeach frodo\",\"frodo neo\",\"muzi neo\",\"apeach muzi\"]\n",
    "k = 2\n",
    "\n",
    "solution(id_list, report, k)"
   ]
  },
  {
   "cell_type": "code",
   "execution_count": null,
   "metadata": {},
   "outputs": [],
   "source": []
  }
 ],
 "metadata": {
  "kernelspec": {
   "display_name": "Python 3.9.12 ('base')",
   "language": "python",
   "name": "python3"
  },
  "language_info": {
   "codemirror_mode": {
    "name": "ipython",
    "version": 3
   },
   "file_extension": ".py",
   "mimetype": "text/x-python",
   "name": "python",
   "nbconvert_exporter": "python",
   "pygments_lexer": "ipython3",
   "version": "3.9.12"
  },
  "orig_nbformat": 4,
  "vscode": {
   "interpreter": {
    "hash": "56408a2f82543ad884ae74521a5fc54f2325c8b045fd0e35486190a44d515172"
   }
  }
 },
 "nbformat": 4,
 "nbformat_minor": 2
}
