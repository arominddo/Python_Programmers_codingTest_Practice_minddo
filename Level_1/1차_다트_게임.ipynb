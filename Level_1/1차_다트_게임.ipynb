{
 "cells": [
  {
   "cell_type": "code",
   "execution_count": 1,
   "metadata": {},
   "outputs": [],
   "source": [
    "def solution(dartResult):\n",
    "    answer = 0\n",
    "    \n",
    "    dart = list(dartResult)\n",
    "    \n",
    "    game = []\n",
    "    \n",
    "    tmp = []\n",
    "    \n",
    "    ch = True\n",
    "    for i in dart :\n",
    "        try :\n",
    "            int(i)\n",
    "            if ch:\n",
    "                ch = False\n",
    "                tmp.append(i)\n",
    "                continue\n",
    "            if (i == \"0\") and (len(tmp)==1):\n",
    "                tmp[0] = \"10\"\n",
    "                continue\n",
    "            game.append(tmp)\n",
    "            tmp = []\n",
    "            tmp.append(i)\n",
    "            continue\n",
    "        except:\n",
    "            tmp.append(i)\n",
    "    game.append(tmp)\n",
    "    \n",
    "    score = []\n",
    "    mul = [\"S\", \"D\", \"T\"]\n",
    "    \n",
    "    for i in range(len(game)):\n",
    "        for j in range(len(game[i])):\n",
    "            if j == 0:\n",
    "                score.append(int(game[i][j]))\n",
    "                continue\n",
    "            elif j == 1 :\n",
    "                score[i] **= (mul.index(game[i][j])+1)\n",
    "            else :\n",
    "                if game[i][j] == \"*\" :\n",
    "                    if i==0:\n",
    "                        score[i] *= 2\n",
    "                    else :\n",
    "                        score[i] *= 2\n",
    "                        score[i-1] *= 2\n",
    "                else :\n",
    "                    score[i] *= -1\n",
    "                    \n",
    "    answer = sum(score)\n",
    "    \n",
    "    \n",
    "    return answer"
   ]
  },
  {
   "cell_type": "code",
   "execution_count": 2,
   "metadata": {},
   "outputs": [
    {
     "data": {
      "text/plain": [
       "37"
      ]
     },
     "execution_count": 2,
     "metadata": {},
     "output_type": "execute_result"
    }
   ],
   "source": [
    "dartResult = \"1S2D*3T\"\n",
    "\n",
    "# 목표 answer = 37\n",
    "\n",
    "solution(dartResult)"
   ]
  }
 ],
 "metadata": {
  "kernelspec": {
   "display_name": "Python 3.9.12 ('base')",
   "language": "python",
   "name": "python3"
  },
  "language_info": {
   "codemirror_mode": {
    "name": "ipython",
    "version": 3
   },
   "file_extension": ".py",
   "mimetype": "text/x-python",
   "name": "python",
   "nbconvert_exporter": "python",
   "pygments_lexer": "ipython3",
   "version": "3.9.12"
  },
  "orig_nbformat": 4,
  "vscode": {
   "interpreter": {
    "hash": "56408a2f82543ad884ae74521a5fc54f2325c8b045fd0e35486190a44d515172"
   }
  }
 },
 "nbformat": 4,
 "nbformat_minor": 2
}
