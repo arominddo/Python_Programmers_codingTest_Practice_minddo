{
 "cells": [
  {
   "cell_type": "code",
   "execution_count": 1,
   "metadata": {},
   "outputs": [],
   "source": [
    "def solution(participant, completion):\n",
    "\n",
    "    dic1={}\n",
    "\n",
    "    for i in participant:\n",
    "\n",
    "        if i not in dic1:\n",
    "            dic1[i] = 1\n",
    "            \n",
    "        elif dic1[i] != 0:\n",
    "            dic1[i] = dic1[i]+1\n",
    "\n",
    "    for i in completion:\n",
    "\n",
    "        dic1[i] = dic1[i]-1\n",
    "\n",
    "    answer = list(sorted(dic1.items(),key=lambda x:x[1], reverse=True))[0][0]\n",
    "\n",
    "    return answer"
   ]
  },
  {
   "cell_type": "code",
   "execution_count": 2,
   "metadata": {},
   "outputs": [
    {
     "data": {
      "text/plain": [
       "'leo'"
      ]
     },
     "execution_count": 2,
     "metadata": {},
     "output_type": "execute_result"
    }
   ],
   "source": [
    "participant = [\"leo\", \"kiki\", \"eden\"]\n",
    "completion = [\"eden\", \"kiki\"]\n",
    "# 목표 return = \"leo\"\n",
    "\n",
    "solution(participant, completion)"
   ]
  },
  {
   "cell_type": "code",
   "execution_count": 4,
   "metadata": {},
   "outputs": [
    {
     "data": {
      "text/plain": [
       "'vinko'"
      ]
     },
     "execution_count": 4,
     "metadata": {},
     "output_type": "execute_result"
    }
   ],
   "source": [
    "participant = [\"marina\", \"josipa\", \"nikola\", \"vinko\", \"filipa\"]\n",
    "completion = [\"josipa\", \"filipa\", \"marina\", \"nikola\"]\n",
    "# 목표 return = \"vinko\"\n",
    "\n",
    "solution(participant, completion)"
   ]
  }
 ],
 "metadata": {
  "kernelspec": {
   "display_name": "Python 3.9.12 ('base')",
   "language": "python",
   "name": "python3"
  },
  "language_info": {
   "codemirror_mode": {
    "name": "ipython",
    "version": 3
   },
   "file_extension": ".py",
   "mimetype": "text/x-python",
   "name": "python",
   "nbconvert_exporter": "python",
   "pygments_lexer": "ipython3",
   "version": "3.9.12"
  },
  "orig_nbformat": 4,
  "vscode": {
   "interpreter": {
    "hash": "56408a2f82543ad884ae74521a5fc54f2325c8b045fd0e35486190a44d515172"
   }
  }
 },
 "nbformat": 4,
 "nbformat_minor": 2
}
