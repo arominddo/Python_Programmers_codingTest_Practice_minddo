{
 "cells": [
  {
   "cell_type": "code",
   "execution_count": 1,
   "metadata": {},
   "outputs": [],
   "source": [
    "def solution(lottos, win_nums):\n",
    "    answer = []\n",
    "    \n",
    "    cnt = 0\n",
    "    zero = 0\n",
    "    for i in lottos :\n",
    "        if i == 0 :\n",
    "            zero += 1\n",
    "        elif i in win_nums:\n",
    "            cnt += 1\n",
    "    \n",
    "    win_dic = {}\n",
    "    \n",
    "    for i in range(2,7) :\n",
    "        win_dic[i] = 5-i+2\n",
    "    win_dic[1] = 6\n",
    "    win_dic[0] = 6\n",
    "    \n",
    "    answer.append(win_dic[cnt+zero])\n",
    "    answer.append(win_dic[cnt])\n",
    "    \n",
    "    return answer"
   ]
  },
  {
   "cell_type": "code",
   "execution_count": 2,
   "metadata": {},
   "outputs": [
    {
     "data": {
      "text/plain": [
       "[3, 5]"
      ]
     },
     "execution_count": 2,
     "metadata": {},
     "output_type": "execute_result"
    }
   ],
   "source": [
    "lottos = [44, 1, 0, 0, 31, 25]\n",
    "win_nums = [31, 10, 45, 1, 6, 19]\n",
    "\n",
    "# 목표 result = [3, 5]\n",
    "\n",
    "solution(lottos, win_nums)"
   ]
  }
 ],
 "metadata": {
  "kernelspec": {
   "display_name": "Python 3.9.12 ('base')",
   "language": "python",
   "name": "python3"
  },
  "language_info": {
   "codemirror_mode": {
    "name": "ipython",
    "version": 3
   },
   "file_extension": ".py",
   "mimetype": "text/x-python",
   "name": "python",
   "nbconvert_exporter": "python",
   "pygments_lexer": "ipython3",
   "version": "3.9.12"
  },
  "orig_nbformat": 4,
  "vscode": {
   "interpreter": {
    "hash": "56408a2f82543ad884ae74521a5fc54f2325c8b045fd0e35486190a44d515172"
   }
  }
 },
 "nbformat": 4,
 "nbformat_minor": 2
}
