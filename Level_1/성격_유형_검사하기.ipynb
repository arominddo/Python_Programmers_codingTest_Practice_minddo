{
 "cells": [
  {
   "cell_type": "code",
   "execution_count": 1,
   "metadata": {},
   "outputs": [],
   "source": [
    "def solution(survey, choices):\n",
    "    answer = ''\n",
    "    \n",
    "    li = [[\"R\",\"T\"],[\"C\",\"F\"],[\"J\",\"M\"], [\"A\",\"N\"]]\n",
    "    \n",
    "    score = {}\n",
    "    for i in range(4):\n",
    "        for j in range(2):\n",
    "            score[li[i][j]] = 0\n",
    "    for i in range(len(choices)):\n",
    "        if choices[i] > 4 :\n",
    "            score[survey[i][1]] += (choices[i]-4)\n",
    "        elif choices[i] < 4:\n",
    "            score[survey[i][0]] += (4-choices[i])\n",
    "        else :\n",
    "            continue\n",
    "    \n",
    "    for tmp in li :\n",
    "        tmp0 = score[tmp[0]]\n",
    "        tmp1 = score[tmp[1]]\n",
    "        if tmp0 == tmp1 :\n",
    "            tmp_so = sorted(tmp)\n",
    "            answer += tmp_so[0]\n",
    "        elif tmp0 > tmp1 :\n",
    "            answer += tmp[0]\n",
    "        else :\n",
    "            answer += tmp[1]\n",
    "    \n",
    "    return answer"
   ]
  },
  {
   "cell_type": "code",
   "execution_count": 2,
   "metadata": {},
   "outputs": [
    {
     "data": {
      "text/plain": [
       "'TCMA'"
      ]
     },
     "execution_count": 2,
     "metadata": {},
     "output_type": "execute_result"
    }
   ],
   "source": [
    "survey = [\"AN\", \"CF\", \"MJ\", \"RT\", \"NA\"]\n",
    "choices = [5, 3, 2, 7, 5]\n",
    "\n",
    "#목표 result\n",
    "result = \"TCMA\"\n",
    "\n",
    "#확인\n",
    "solution(survey, choices)"
   ]
  }
 ],
 "metadata": {
  "kernelspec": {
   "display_name": "Python 3.9.12 ('base')",
   "language": "python",
   "name": "python3"
  },
  "language_info": {
   "codemirror_mode": {
    "name": "ipython",
    "version": 3
   },
   "file_extension": ".py",
   "mimetype": "text/x-python",
   "name": "python",
   "nbconvert_exporter": "python",
   "pygments_lexer": "ipython3",
   "version": "3.9.12"
  },
  "orig_nbformat": 4,
  "vscode": {
   "interpreter": {
    "hash": "8659e2e12d2db35732942a1b03718177212c8caf7572e26e178383efe2336d86"
   }
  }
 },
 "nbformat": 4,
 "nbformat_minor": 2
}
