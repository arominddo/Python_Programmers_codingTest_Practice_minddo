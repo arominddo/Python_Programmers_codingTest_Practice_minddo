{
 "cells": [
  {
   "cell_type": "code",
   "execution_count": 1,
   "metadata": {},
   "outputs": [],
   "source": [
    "def solution(N, stages):\n",
    "    answer = []\n",
    "\n",
    "    stop_li = []\n",
    "\n",
    "    if max(stages) >= N:\n",
    "        num = max(stages)\n",
    "    else:\n",
    "        num = N\n",
    "\n",
    "    for i in range(num):\n",
    "        stop_li.append(0)\n",
    "\n",
    "    for i in stages:\n",
    "        stop_li[i-1] += 1\n",
    "\n",
    "    tmp = {}\n",
    "    for i in range(N):\n",
    "        if (sum(stop_li[i:]) == 0):\n",
    "            tmp[i+1] = 0\n",
    "        else:\n",
    "            tmp[i+1] = stop_li[i]/sum(stop_li[i:])\n",
    "\n",
    "    tmp = list(sorted(tmp.items(), key=lambda x: x[1], reverse=True))\n",
    "\n",
    "    answer = list(map(lambda x: x[0], tmp))\n",
    "\n",
    "    return answer\n"
   ]
  },
  {
   "cell_type": "code",
   "execution_count": 2,
   "metadata": {},
   "outputs": [
    {
     "data": {
      "text/plain": [
       "[3, 4, 2, 1, 5]"
      ]
     },
     "execution_count": 2,
     "metadata": {},
     "output_type": "execute_result"
    }
   ],
   "source": [
    "N = 5\n",
    "stages = [2, 1, 2, 6, 2, 4, 3, 3]\n",
    "\n",
    "# 목표 result = [3,4,2,1,5]\n",
    "\n",
    "solution(N, stages)"
   ]
  }
 ],
 "metadata": {
  "kernelspec": {
   "display_name": "Python 3.9.12 ('base')",
   "language": "python",
   "name": "python3"
  },
  "language_info": {
   "codemirror_mode": {
    "name": "ipython",
    "version": 3
   },
   "file_extension": ".py",
   "mimetype": "text/x-python",
   "name": "python",
   "nbconvert_exporter": "python",
   "pygments_lexer": "ipython3",
   "version": "3.9.12"
  },
  "orig_nbformat": 4,
  "vscode": {
   "interpreter": {
    "hash": "56408a2f82543ad884ae74521a5fc54f2325c8b045fd0e35486190a44d515172"
   }
  }
 },
 "nbformat": 4,
 "nbformat_minor": 2
}
