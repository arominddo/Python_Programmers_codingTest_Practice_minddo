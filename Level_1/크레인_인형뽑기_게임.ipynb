{
 "cells": [
  {
   "cell_type": "code",
   "execution_count": 1,
   "metadata": {},
   "outputs": [],
   "source": [
    "def solution(board, moves):\n",
    "    answer = 0\n",
    "    \n",
    "    basket = []\n",
    "    \n",
    "    for i in moves :\n",
    "        for j in range(len(board)) :\n",
    "            if (board[j][i-1]==0) :\n",
    "                continue\n",
    "            else :\n",
    "                tmp = board[j][i-1]\n",
    "                board[j][i-1] = 0\n",
    "                if len(basket) == 0 :\n",
    "                    basket.append(tmp)\n",
    "                    break\n",
    "                else :\n",
    "                    if(basket[-1]==tmp):\n",
    "                        basket.pop(-1)\n",
    "                        answer += 2\n",
    "                        break\n",
    "                    else :\n",
    "                        basket.append(tmp)\n",
    "                        break\n",
    "    \n",
    "    return answer"
   ]
  },
  {
   "cell_type": "code",
   "execution_count": 3,
   "metadata": {},
   "outputs": [
    {
     "name": "stdout",
     "output_type": "stream",
     "text": [
      "나의 정답 :  4\n",
      "정답인가요?  True\n"
     ]
    }
   ],
   "source": [
    "board = [[0,0,0,0,0],[0,0,1,0,3],[0,2,5,0,1],[4,2,4,4,2],[3,5,1,3,1]]\n",
    "moves = [1,5,3,5,1,2,1,4]\n",
    "\n",
    "\n",
    "#목표 result = 4\n",
    "target = 4\n",
    "\n",
    "#결과\n",
    "sol = solution(board, moves)\n",
    "print(\"나의 정답 : \", sol)\n",
    "print(\"정답인가요? \",sol==target)"
   ]
  }
 ],
 "metadata": {
  "kernelspec": {
   "display_name": "Python 3.9.12 ('base')",
   "language": "python",
   "name": "python3"
  },
  "language_info": {
   "codemirror_mode": {
    "name": "ipython",
    "version": 3
   },
   "file_extension": ".py",
   "mimetype": "text/x-python",
   "name": "python",
   "nbconvert_exporter": "python",
   "pygments_lexer": "ipython3",
   "version": "3.9.12"
  },
  "orig_nbformat": 4,
  "vscode": {
   "interpreter": {
    "hash": "56408a2f82543ad884ae74521a5fc54f2325c8b045fd0e35486190a44d515172"
   }
  }
 },
 "nbformat": 4,
 "nbformat_minor": 2
}
