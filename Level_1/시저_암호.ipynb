{
 "cells": [
  {
   "cell_type": "code",
   "execution_count": 1,
   "metadata": {},
   "outputs": [],
   "source": [
    "def solution(s, n):\n",
    "    \n",
    "    s_li = list(s)\n",
    "    \n",
    "    for i in range(len(s_li)) :\n",
    "        tmp = s_li[i]\n",
    "        if 65<=ord(tmp)<=90:\n",
    "            if ord(tmp)+n > 90 :\n",
    "                num = (ord(tmp)+n)-26\n",
    "                s_li[i] = chr(num)\n",
    "            else :\n",
    "                s_li[i] = chr(ord(tmp)+n)\n",
    "        elif 97<=ord(tmp)<=122:\n",
    "            if ord(tmp)+n > 122 :\n",
    "                num = (ord(tmp)+n)-26\n",
    "                s_li[i] = chr(num)\n",
    "            else :\n",
    "                s_li[i] = chr(ord(tmp)+n)\n",
    "    \n",
    "    answer = \"\".join(s_li)\n",
    "    \n",
    "    return answer"
   ]
  },
  {
   "cell_type": "code",
   "execution_count": 2,
   "metadata": {},
   "outputs": [
    {
     "data": {
      "text/plain": [
       "'BC'"
      ]
     },
     "execution_count": 2,
     "metadata": {},
     "output_type": "execute_result"
    }
   ],
   "source": [
    "s = \"AB\"\n",
    "n = 1\n",
    "#목표 result = \"BC\"\n",
    "\n",
    "solution(s,n)"
   ]
  }
 ],
 "metadata": {
  "kernelspec": {
   "display_name": "Python 3.9.12 ('base')",
   "language": "python",
   "name": "python3"
  },
  "language_info": {
   "codemirror_mode": {
    "name": "ipython",
    "version": 3
   },
   "file_extension": ".py",
   "mimetype": "text/x-python",
   "name": "python",
   "nbconvert_exporter": "python",
   "pygments_lexer": "ipython3",
   "version": "3.9.12"
  },
  "orig_nbformat": 4,
  "vscode": {
   "interpreter": {
    "hash": "56408a2f82543ad884ae74521a5fc54f2325c8b045fd0e35486190a44d515172"
   }
  }
 },
 "nbformat": 4,
 "nbformat_minor": 2
}
