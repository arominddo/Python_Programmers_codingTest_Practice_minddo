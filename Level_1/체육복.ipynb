{
 "cells": [
  {
   "cell_type": "code",
   "execution_count": 2,
   "metadata": {},
   "outputs": [],
   "source": [
    "def solution(n, lost, reserve):\n",
    "    answer = 0\n",
    "    \n",
    "    cl = [1 for i in range(n)]\n",
    "    \n",
    "    for i in lost :\n",
    "        cl[i-1] -= 1\n",
    "    \n",
    "    reserve = sorted(reserve)\n",
    "    \n",
    "    for i in reserve :\n",
    "        cl[i-1] += 1\n",
    "        \n",
    "    for i in range(len(cl)) :\n",
    "        if(cl[i] == 2) :\n",
    "            \n",
    "            if((i != 0) and (i != (len(cl)-1))) :\n",
    "                if(cl[i-1] == 0) :\n",
    "                    cl[i-1] += 1\n",
    "                    cl[i] -= 1\n",
    "                elif(cl[i+1] == 0) :\n",
    "                    cl[i+1] += 1\n",
    "                    cl[i] -= 1\n",
    "            elif (i == 0) :\n",
    "                if(cl[i+1]==0) :\n",
    "                    cl[i+1] += 1\n",
    "                    cl[i] -= 1\n",
    "            else :\n",
    "                if(cl[i-1] == 0) :\n",
    "                    cl[i-1] += 1\n",
    "                    cl[i] -= 1\n",
    "                        \n",
    "    answer = len(cl) - cl.count(0)\n",
    "    \n",
    "    return answer\n",
    "        "
   ]
  },
  {
   "cell_type": "code",
   "execution_count": 3,
   "metadata": {},
   "outputs": [
    {
     "data": {
      "text/plain": [
       "5"
      ]
     },
     "execution_count": 3,
     "metadata": {},
     "output_type": "execute_result"
    }
   ],
   "source": [
    "n = 5\n",
    "lost = [2, 4]\n",
    "reserve = [1,3,5]\n",
    "\n",
    "# 목표 return = 5\n",
    "\n",
    "solution(n, lost, reserve)"
   ]
  }
 ],
 "metadata": {
  "kernelspec": {
   "display_name": "Python 3.9.12 ('base')",
   "language": "python",
   "name": "python3"
  },
  "language_info": {
   "codemirror_mode": {
    "name": "ipython",
    "version": 3
   },
   "file_extension": ".py",
   "mimetype": "text/x-python",
   "name": "python",
   "nbconvert_exporter": "python",
   "pygments_lexer": "ipython3",
   "version": "3.9.12"
  },
  "orig_nbformat": 4,
  "vscode": {
   "interpreter": {
    "hash": "56408a2f82543ad884ae74521a5fc54f2325c8b045fd0e35486190a44d515172"
   }
  }
 },
 "nbformat": 4,
 "nbformat_minor": 2
}
