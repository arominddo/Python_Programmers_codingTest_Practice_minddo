{
 "cells": [
  {
   "cell_type": "code",
   "execution_count": 1,
   "metadata": {},
   "outputs": [],
   "source": [
    "def solution(a, b):\n",
    "    answer = ''\n",
    "    \n",
    "    week = [\"FRI\", \"SAT\", \"SUN\", \"MON\", \"TUE\", \"WED\", \"THU\"]\n",
    "    \n",
    "    if (a != 1) :\n",
    "    \n",
    "        mon_cnt = {1:30, 2:29, 3:31, 4:30, 5:31, 6:30, 7:31, 8:31, 9:30, 10:31, 11:30, 12:31}\n",
    "\n",
    "        tmp = 0\n",
    "\n",
    "        for i in range(1,a):\n",
    "            tmp += mon_cnt[i]\n",
    "\n",
    "        tmp += b\n",
    "\n",
    "        tmp %= 7\n",
    "\n",
    "        answer = week[tmp]\n",
    "    \n",
    "    else :\n",
    "        answer = week[(b-1)%7]\n",
    "    \n",
    "    \n",
    "    return answer"
   ]
  },
  {
   "cell_type": "code",
   "execution_count": 2,
   "metadata": {},
   "outputs": [
    {
     "data": {
      "text/plain": [
       "'THU'"
      ]
     },
     "execution_count": 2,
     "metadata": {},
     "output_type": "execute_result"
    }
   ],
   "source": [
    "a, b = 5, 24\n",
    "\n",
    "# 목표 result = \"TUE\"\n",
    "\n",
    "solution(a,b)"
   ]
  },
  {
   "cell_type": "code",
   "execution_count": 1,
   "metadata": {},
   "outputs": [],
   "source": [
    "# 두번째 풀이법\n",
    "\n",
    "import calendar\n",
    "\n",
    "def solution(a,b):\n",
    "    def get_days(a,b):\n",
    "        return  [\"MON\", \"TUE\" ,\"WED\", \"THU\", \"FRI\", \"SAT\", \"SUN\"][calendar.weekday(2016,a,b)]\n",
    "    \n",
    "    \n",
    "    answer = \"\"+get_days(a, b)\n",
    "    \n",
    "    return answer\n",
    "    "
   ]
  }
 ],
 "metadata": {
  "kernelspec": {
   "display_name": "Python 3.9.12 ('base')",
   "language": "python",
   "name": "python3"
  },
  "language_info": {
   "codemirror_mode": {
    "name": "ipython",
    "version": 3
   },
   "file_extension": ".py",
   "mimetype": "text/x-python",
   "name": "python",
   "nbconvert_exporter": "python",
   "pygments_lexer": "ipython3",
   "version": "3.9.12"
  },
  "orig_nbformat": 4,
  "vscode": {
   "interpreter": {
    "hash": "56408a2f82543ad884ae74521a5fc54f2325c8b045fd0e35486190a44d515172"
   }
  }
 },
 "nbformat": 4,
 "nbformat_minor": 2
}
