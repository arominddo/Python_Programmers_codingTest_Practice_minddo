{
 "cells": [
  {
   "cell_type": "code",
   "execution_count": 1,
   "metadata": {},
   "outputs": [],
   "source": [
    "def solution(n, arr1, arr2):\n",
    "    answer = []\n",
    "    \n",
    "    bin_li1 = []\n",
    "    bin_li2 = []\n",
    "    \n",
    "    for i,j in zip(arr1,arr2):\n",
    "        bin_li1.append(bin(i)[2:])\n",
    "        bin_li2.append(bin(j)[2:])\n",
    "        \n",
    "    for i in range(len(bin_li1)):\n",
    "        bin_li1[i] = list(bin_li1[i])\n",
    "        while len(bin_li1[i])!=n:\n",
    "            bin_li1[i].insert(0,\"0\")\n",
    "    \n",
    "    for i in range(len(bin_li2)):\n",
    "        bin_li2[i] = list(bin_li2[i])\n",
    "        while len(bin_li2[i])!=n:\n",
    "            bin_li2[i].insert(0,\"0\")\n",
    "        \n",
    "        \n",
    "    for i in range(n):\n",
    "        tmp = []\n",
    "        for j in range(n):\n",
    "            if bin_li1[i][j] == \"1\" or bin_li2[i][j]==\"1\":\n",
    "                tmp.append(\"#\")\n",
    "            else :\n",
    "                tmp.append(\" \")\n",
    "        answer.append(\"\".join(tmp))\n",
    "    \n",
    "    return answer"
   ]
  },
  {
   "cell_type": "code",
   "execution_count": 2,
   "metadata": {},
   "outputs": [
    {
     "data": {
      "text/plain": [
       "['#####', '# # #', '### #', '#  ##', '#####']"
      ]
     },
     "execution_count": 2,
     "metadata": {},
     "output_type": "execute_result"
    }
   ],
   "source": [
    "n = 5\n",
    "arr1 = [9, 20, 28, 18, 11]\n",
    "arr2 = [30, 1, 21, 17, 28]\n",
    "\n",
    "# 목표 출력 = [\"#####\",\"# # #\", \"### #\", \"# ##\", \"#####\"]\n",
    "\n",
    "solution(n,arr1, arr2)"
   ]
  }
 ],
 "metadata": {
  "kernelspec": {
   "display_name": "Python 3.9.12 ('base')",
   "language": "python",
   "name": "python3"
  },
  "language_info": {
   "codemirror_mode": {
    "name": "ipython",
    "version": 3
   },
   "file_extension": ".py",
   "mimetype": "text/x-python",
   "name": "python",
   "nbconvert_exporter": "python",
   "pygments_lexer": "ipython3",
   "version": "3.9.12"
  },
  "orig_nbformat": 4,
  "vscode": {
   "interpreter": {
    "hash": "56408a2f82543ad884ae74521a5fc54f2325c8b045fd0e35486190a44d515172"
   }
  }
 },
 "nbformat": 4,
 "nbformat_minor": 2
}
