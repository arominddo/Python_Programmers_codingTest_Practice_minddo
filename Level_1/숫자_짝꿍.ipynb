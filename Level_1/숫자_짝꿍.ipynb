{
 "cells": [
  {
   "cell_type": "code",
   "execution_count": 1,
   "metadata": {},
   "outputs": [],
   "source": [
    "def solution(X, Y):\n",
    "    answer = ''\n",
    "\n",
    "    tmp = []\n",
    "    for i in (set(X)&set(Y)) :\n",
    "        for j in range(min(X.count(i), Y.count(i))) :\n",
    "            tmp.append(i)\n",
    "    \n",
    "    if len(tmp) == 0:\n",
    "        answer = \"-1\"\n",
    "        return answer\n",
    "    \n",
    "    if max(tmp) == \"0\":\n",
    "        answer = \"0\"\n",
    "        return answer\n",
    "    \n",
    "    tmp.sort(reverse=True)\n",
    "    \n",
    "    answer = \"\".join(tmp)\n",
    "    \n",
    "    return answer"
   ]
  },
  {
   "cell_type": "code",
   "execution_count": 2,
   "metadata": {},
   "outputs": [
    {
     "data": {
      "text/plain": [
       "'321'"
      ]
     },
     "execution_count": 2,
     "metadata": {},
     "output_type": "execute_result"
    }
   ],
   "source": [
    "X = \"12321\"\n",
    "Y = \"42531\"\n",
    "\n",
    "# 목표 result\n",
    "result = \"321\"\n",
    "\n",
    "# 확인\n",
    "solution(X,Y)"
   ]
  }
 ],
 "metadata": {
  "kernelspec": {
   "display_name": "Python 3.9.12 ('base')",
   "language": "python",
   "name": "python3"
  },
  "language_info": {
   "codemirror_mode": {
    "name": "ipython",
    "version": 3
   },
   "file_extension": ".py",
   "mimetype": "text/x-python",
   "name": "python",
   "nbconvert_exporter": "python",
   "pygments_lexer": "ipython3",
   "version": "3.9.12"
  },
  "orig_nbformat": 4,
  "vscode": {
   "interpreter": {
    "hash": "8659e2e12d2db35732942a1b03718177212c8caf7572e26e178383efe2336d86"
   }
  }
 },
 "nbformat": 4,
 "nbformat_minor": 2
}
