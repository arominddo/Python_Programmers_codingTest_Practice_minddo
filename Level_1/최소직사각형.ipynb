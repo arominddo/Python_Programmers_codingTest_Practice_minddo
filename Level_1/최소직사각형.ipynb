{
 "cells": [
  {
   "cell_type": "code",
   "execution_count": 1,
   "metadata": {},
   "outputs": [],
   "source": [
    "def solution(sizes):\n",
    "    answer = 0\n",
    "    \n",
    "    for i in range(len(sizes)):\n",
    "        sizes[i] = sorted(sizes[i])\n",
    "    \n",
    "    min_li = list(map(lambda x:x[0], sizes))\n",
    "    max_li = list(map(lambda x:x[1], sizes))\n",
    "    \n",
    "    answer = max(min_li)*max(max_li)\n",
    "    \n",
    "    return answer"
   ]
  },
  {
   "cell_type": "code",
   "execution_count": 2,
   "metadata": {},
   "outputs": [
    {
     "data": {
      "text/plain": [
       "4000"
      ]
     },
     "execution_count": 2,
     "metadata": {},
     "output_type": "execute_result"
    }
   ],
   "source": [
    "sizes = [[60, 50], [30, 70], [60, 30], [80, 40]]\n",
    "# 목표 result = 4000\n",
    "\n",
    "solution(sizes)"
   ]
  }
 ],
 "metadata": {
  "kernelspec": {
   "display_name": "Python 3.9.12 ('base')",
   "language": "python",
   "name": "python3"
  },
  "language_info": {
   "codemirror_mode": {
    "name": "ipython",
    "version": 3
   },
   "file_extension": ".py",
   "mimetype": "text/x-python",
   "name": "python",
   "nbconvert_exporter": "python",
   "pygments_lexer": "ipython3",
   "version": "3.9.12"
  },
  "orig_nbformat": 4,
  "vscode": {
   "interpreter": {
    "hash": "56408a2f82543ad884ae74521a5fc54f2325c8b045fd0e35486190a44d515172"
   }
  }
 },
 "nbformat": 4,
 "nbformat_minor": 2
}
