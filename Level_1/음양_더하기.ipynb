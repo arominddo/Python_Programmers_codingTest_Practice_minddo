{
 "cells": [
  {
   "cell_type": "code",
   "execution_count": 1,
   "metadata": {},
   "outputs": [],
   "source": [
    "def solution(absolutes, signs):\n",
    "    answer = 0\n",
    "    \n",
    "    for i in range(len(absolutes)):\n",
    "        tmp = 1 if signs[i] == True else -1\n",
    "        answer += tmp*absolutes[i]\n",
    "    \n",
    "    return answer"
   ]
  },
  {
   "cell_type": "code",
   "execution_count": 3,
   "metadata": {},
   "outputs": [
    {
     "data": {
      "text/plain": [
       "9"
      ]
     },
     "execution_count": 3,
     "metadata": {},
     "output_type": "execute_result"
    }
   ],
   "source": [
    "absolutes = [4,7,12]\n",
    "signs = [True,False,True]\n",
    "# 목표 result = 9\n",
    "\n",
    "solution(absolutes, signs)"
   ]
  }
 ],
 "metadata": {
  "kernelspec": {
   "display_name": "Python 3.9.12 ('base')",
   "language": "python",
   "name": "python3"
  },
  "language_info": {
   "codemirror_mode": {
    "name": "ipython",
    "version": 3
   },
   "file_extension": ".py",
   "mimetype": "text/x-python",
   "name": "python",
   "nbconvert_exporter": "python",
   "pygments_lexer": "ipython3",
   "version": "3.9.12"
  },
  "orig_nbformat": 4,
  "vscode": {
   "interpreter": {
    "hash": "56408a2f82543ad884ae74521a5fc54f2325c8b045fd0e35486190a44d515172"
   }
  }
 },
 "nbformat": 4,
 "nbformat_minor": 2
}
