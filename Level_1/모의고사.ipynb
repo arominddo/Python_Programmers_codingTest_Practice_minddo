{
 "cells": [
  {
   "cell_type": "code",
   "execution_count": 1,
   "metadata": {},
   "outputs": [],
   "source": [
    "def solution(answers):\n",
    "    answer = []\n",
    "    \n",
    "    num_1 = [1,2,3,4,5]\n",
    "    num_2 = [2,1,2,3,2,4,2,5]\n",
    "    num_3 = [3,3,1,1,2,2,4,4,5,5]\n",
    "    \n",
    "    def check_ans(li, answers) :\n",
    "        cnt = 0\n",
    "        for i in range(len(answers)):\n",
    "            if(answers[i]==li[i%len(li)]):\n",
    "                cnt += 1\n",
    "        \n",
    "        return cnt\n",
    "    \n",
    "    sc_1 = check_ans(num_1, answers)\n",
    "    sc_2 = check_ans(num_2, answers)\n",
    "    sc_3 = check_ans(num_3, answers)\n",
    "    \n",
    "    answer = [1]\n",
    "    sc_max = sc_1\n",
    "    \n",
    "    if (sc_max==sc_2):\n",
    "        answer.append(2)\n",
    "    elif (sc_max<sc_2):\n",
    "        sc_max = sc_2\n",
    "        answer = []\n",
    "        answer.append(2)\n",
    "    \n",
    "    if (sc_max == sc_3):\n",
    "        answer.append(3)\n",
    "    elif(sc_max<sc_3):\n",
    "        answer = []\n",
    "        answer.append(3)\n",
    "        \n",
    "    \n",
    "    \n",
    "    return answer"
   ]
  },
  {
   "cell_type": "code",
   "execution_count": 2,
   "metadata": {},
   "outputs": [
    {
     "data": {
      "text/plain": [
       "[1]"
      ]
     },
     "execution_count": 2,
     "metadata": {},
     "output_type": "execute_result"
    }
   ],
   "source": [
    "answers = [1,2,3,4,5]\n",
    "\n",
    "# 목표 return = [1]\n",
    "\n",
    "solution(answers)"
   ]
  }
 ],
 "metadata": {
  "kernelspec": {
   "display_name": "Python 3.9.12 ('base')",
   "language": "python",
   "name": "python3"
  },
  "language_info": {
   "codemirror_mode": {
    "name": "ipython",
    "version": 3
   },
   "file_extension": ".py",
   "mimetype": "text/x-python",
   "name": "python",
   "nbconvert_exporter": "python",
   "pygments_lexer": "ipython3",
   "version": "3.9.12"
  },
  "orig_nbformat": 4,
  "vscode": {
   "interpreter": {
    "hash": "56408a2f82543ad884ae74521a5fc54f2325c8b045fd0e35486190a44d515172"
   }
  }
 },
 "nbformat": 4,
 "nbformat_minor": 2
}
