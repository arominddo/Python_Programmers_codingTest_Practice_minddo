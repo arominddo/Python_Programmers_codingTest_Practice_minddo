{
 "cells": [
  {
   "cell_type": "code",
   "execution_count": 1,
   "metadata": {},
   "outputs": [],
   "source": [
    "def solution(numbers, hand):\n",
    "    answer = []\n",
    "    \n",
    "    left = [\"*\",7,4,1]\n",
    "    midle = [0,8,5,2]\n",
    "    right = [\"#\",9,6,3]\n",
    "    \n",
    "    LP = (0,0)\n",
    "    RP = (0,0)\n",
    "\n",
    "    for i in numbers :\n",
    "\n",
    "        if(i in left):\n",
    "            answer.append(\"L\")\n",
    "            LP = (0,left.index(i))\n",
    "        elif(i in right):\n",
    "            answer.append(\"R\")\n",
    "            RP = (0,right.index(i))\n",
    "        else :\n",
    "            l_far = abs(LP[0]-1)+abs(midle.index(i)-LP[1])\n",
    "\n",
    "            r_far = abs(RP[0]-1)+abs(midle.index(i)-RP[1])\n",
    "            if (l_far == r_far) :\n",
    "                if hand == \"right\" :\n",
    "                    answer.append(\"R\")\n",
    "                    RP = (1,midle.index(i))\n",
    "                else :\n",
    "                    answer.append(\"L\")\n",
    "                    LP = (1, midle.index(i))\n",
    "            elif (l_far < r_far ) :\n",
    "                answer.append(\"L\")\n",
    "                LP = (1, midle.index(i))\n",
    "            else :\n",
    "                answer.append(\"R\")\n",
    "                RP = (1,midle.index(i))\n",
    "    \n",
    "    answer = \"\".join(answer)\n",
    "    \n",
    "    return answer"
   ]
  },
  {
   "cell_type": "code",
   "execution_count": 3,
   "metadata": {},
   "outputs": [
    {
     "name": "stdout",
     "output_type": "stream",
     "text": [
      "LRLLLRLLRRL\n",
      "정답 :  True\n"
     ]
    }
   ],
   "source": [
    "numbers = [1, 3, 4, 5, 8, 2, 1, 4, 5, 9, 5]\n",
    "hand = \"right\"\n",
    "\n",
    "# 목표 result = \"LRLLLRLLRRL\"\n",
    "target = \"LRLLLRLLRRL\"\n",
    "\n",
    "\n",
    "result = solution(numbers, hand)\n",
    "print(result)\n",
    "print(\"정답 : \", result==target)"
   ]
  }
 ],
 "metadata": {
  "kernelspec": {
   "display_name": "Python 3.9.12 ('base')",
   "language": "python",
   "name": "python3"
  },
  "language_info": {
   "codemirror_mode": {
    "name": "ipython",
    "version": 3
   },
   "file_extension": ".py",
   "mimetype": "text/x-python",
   "name": "python",
   "nbconvert_exporter": "python",
   "pygments_lexer": "ipython3",
   "version": "3.9.12"
  },
  "orig_nbformat": 4,
  "vscode": {
   "interpreter": {
    "hash": "56408a2f82543ad884ae74521a5fc54f2325c8b045fd0e35486190a44d515172"
   }
  }
 },
 "nbformat": 4,
 "nbformat_minor": 2
}
