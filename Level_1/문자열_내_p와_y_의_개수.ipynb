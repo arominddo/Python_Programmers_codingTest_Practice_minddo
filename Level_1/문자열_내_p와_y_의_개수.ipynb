{
 "cells": [
  {
   "cell_type": "code",
   "execution_count": 1,
   "metadata": {},
   "outputs": [],
   "source": [
    "def solution(s):\n",
    "    answer = True\n",
    "    \n",
    "    p_sum = 0\n",
    "    y_sum = 0\n",
    "    \n",
    "    for i in s:\n",
    "        if (i == \"p\")|(i == \"P\"):\n",
    "            p_sum += 1\n",
    "        if (i == \"y\")|(i==\"Y\"):\n",
    "            y_sum += 1\n",
    "    \n",
    "    if (p_sum != y_sum):\n",
    "        answer = False\n",
    "    \n",
    "    return answer"
   ]
  },
  {
   "cell_type": "code",
   "execution_count": 2,
   "metadata": {},
   "outputs": [
    {
     "data": {
      "text/plain": [
       "True"
      ]
     },
     "execution_count": 2,
     "metadata": {},
     "output_type": "execute_result"
    }
   ],
   "source": [
    "s = \"pPoooyY\"\n",
    "# 목표 anser = true\n",
    "\n",
    "solution(s)"
   ]
  }
 ],
 "metadata": {
  "kernelspec": {
   "display_name": "Python 3.9.12 ('base')",
   "language": "python",
   "name": "python3"
  },
  "language_info": {
   "codemirror_mode": {
    "name": "ipython",
    "version": 3
   },
   "file_extension": ".py",
   "mimetype": "text/x-python",
   "name": "python",
   "nbconvert_exporter": "python",
   "pygments_lexer": "ipython3",
   "version": "3.9.12"
  },
  "orig_nbformat": 4,
  "vscode": {
   "interpreter": {
    "hash": "56408a2f82543ad884ae74521a5fc54f2325c8b045fd0e35486190a44d515172"
   }
  }
 },
 "nbformat": 4,
 "nbformat_minor": 2
}
