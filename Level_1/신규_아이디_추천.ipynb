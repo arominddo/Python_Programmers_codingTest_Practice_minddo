{
 "cells": [
  {
   "cell_type": "code",
   "execution_count": 1,
   "metadata": {},
   "outputs": [],
   "source": [
    "def solution(new_id):\n",
    "    \n",
    "    new_id = new_id.lower()\n",
    "\n",
    "    new_id = list(new_id)\n",
    "\n",
    "    char_li = [\"-\",\"_\",\".\"]\n",
    "\n",
    "    i = 0\n",
    "    while i != len(new_id) :\n",
    "        if ((new_id[i] not in char_li) and (not new_id[i].isalnum())):\n",
    "            new_id.pop(i)\n",
    "            continue\n",
    "        else :\n",
    "            i += 1\n",
    "\n",
    "\n",
    "    i = 0\n",
    "    cnt = 0\n",
    "    while (i != len(new_id)) :\n",
    "        if (new_id[i]==\".\") :\n",
    "            if cnt == 0:\n",
    "                cnt += 1\n",
    "                i += 1\n",
    "                continue\n",
    "            else :\n",
    "                cnt = 0\n",
    "                new_id.pop(i)\n",
    "                i = 0\n",
    "                continue\n",
    "        else :\n",
    "            cnt = 0\n",
    "            i += 1\n",
    "\n",
    "    if len(new_id) != 0 :\n",
    "        if new_id[0] == \".\" :\n",
    "            new_id.pop(0)\n",
    "    if len(new_id) != 0 :\n",
    "        if new_id[-1] == \".\" :\n",
    "            new_id.pop(-1)\n",
    "\n",
    "    if \"\".join(new_id) == \"\" :\n",
    "        new_id.append(\"a\")\n",
    "\n",
    "    if len(new_id) >= 16 :\n",
    "        new_id = new_id[0:15]\n",
    "\n",
    "    if new_id[-1] == \".\" :\n",
    "        new_id.pop(-1)\n",
    "\n",
    "    if len(new_id) <= 2:\n",
    "        while len(new_id) < 3 :\n",
    "            new_id.append(new_id[-1])\n",
    "    \n",
    "    answer = \"\".join(new_id)\n",
    "    \n",
    "    return answer"
   ]
  },
  {
   "cell_type": "code",
   "execution_count": 2,
   "metadata": {},
   "outputs": [
    {
     "data": {
      "text/plain": [
       "'bat.y.abcdefghi'"
      ]
     },
     "execution_count": 2,
     "metadata": {},
     "output_type": "execute_result"
    }
   ],
   "source": [
    "new_id = \"...!@BaT#*..y.abcdefghijklm\"\n",
    "\n",
    "# 목표 result \n",
    "result = \"bat.y.abcdefghi\"\n",
    "\n",
    "#확인\n",
    "solution(new_id)"
   ]
  }
 ],
 "metadata": {
  "kernelspec": {
   "display_name": "Python 3.9.12 ('base')",
   "language": "python",
   "name": "python3"
  },
  "language_info": {
   "codemirror_mode": {
    "name": "ipython",
    "version": 3
   },
   "file_extension": ".py",
   "mimetype": "text/x-python",
   "name": "python",
   "nbconvert_exporter": "python",
   "pygments_lexer": "ipython3",
   "version": "3.9.12"
  },
  "orig_nbformat": 4,
  "vscode": {
   "interpreter": {
    "hash": "8659e2e12d2db35732942a1b03718177212c8caf7572e26e178383efe2336d86"
   }
  }
 },
 "nbformat": 4,
 "nbformat_minor": 2
}
