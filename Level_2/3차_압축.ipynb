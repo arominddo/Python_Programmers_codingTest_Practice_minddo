{
 "cells": [
  {
   "cell_type": "code",
   "execution_count": 1,
   "metadata": {},
   "outputs": [],
   "source": [
    "def solution(msg):\n",
    "    answer = []\n",
    "    \n",
    "    dic = {}\n",
    "    for i in range(ord(\"A\"), ord(\"Z\")+1) :\n",
    "        dic[chr(i)] = i - ord(\"A\") + 1\n",
    "        cnt = i - ord(\"A\") + 1\n",
    "    \n",
    "    i = 0\n",
    "    while (i < len(msg)) :\n",
    "        tmp = list(dic.keys())\n",
    "        tmp.sort(key=lambda x:len(x), reverse=True)\n",
    "        \n",
    "        for wor in tmp :\n",
    "            if i != (len(msg) - 1) :\n",
    "                if msg.find(wor,i) == i :\n",
    "                    answer.append(dic[wor])\n",
    "                    cnt += 1\n",
    "                    if(i+len(wor) < len(msg)):\n",
    "                        dic[wor + msg[i+len(wor)]] = cnt\n",
    "                    i += len(wor)\n",
    "                    break\n",
    "            else :\n",
    "                answer.append(dic[msg[-1]])\n",
    "                i += 1\n",
    "                break\n",
    "    \n",
    "    \n",
    "    return answer"
   ]
  },
  {
   "cell_type": "code",
   "execution_count": 3,
   "metadata": {},
   "outputs": [
    {
     "name": "stdout",
     "output_type": "stream",
     "text": [
      "내 답안 :  [20, 15, 2, 5, 15, 18, 14, 15, 20, 27, 29, 31, 36, 30, 32, 34]\n",
      "정답 :  True\n"
     ]
    }
   ],
   "source": [
    "# 입력\n",
    "msg = \"TOBEORNOTTOBEORTOBEORNOT\"\n",
    "\n",
    "# 목표 answer\n",
    "result = [20, 15, 2, 5, 15, 18, 14, 15, 20, 27, 29, 31, 36, 30, 32, 34]\n",
    "\n",
    "# 확인\n",
    "sol = solution(msg)\n",
    "\n",
    "# 채점\n",
    "print(\"내 답안 : \", sol)\n",
    "print(\"정답 : \", sol == result)"
   ]
  }
 ],
 "metadata": {
  "kernelspec": {
   "display_name": "Python 3.9.12 ('base')",
   "language": "python",
   "name": "python3"
  },
  "language_info": {
   "codemirror_mode": {
    "name": "ipython",
    "version": 3
   },
   "file_extension": ".py",
   "mimetype": "text/x-python",
   "name": "python",
   "nbconvert_exporter": "python",
   "pygments_lexer": "ipython3",
   "version": "3.9.12"
  },
  "orig_nbformat": 4,
  "vscode": {
   "interpreter": {
    "hash": "56408a2f82543ad884ae74521a5fc54f2325c8b045fd0e35486190a44d515172"
   }
  }
 },
 "nbformat": 4,
 "nbformat_minor": 2
}
