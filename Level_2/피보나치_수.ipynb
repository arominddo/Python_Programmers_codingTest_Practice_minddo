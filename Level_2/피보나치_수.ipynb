{
 "cells": [
  {
   "cell_type": "code",
   "execution_count": 2,
   "metadata": {},
   "outputs": [],
   "source": [
    "def solution(n):\n",
    "    \n",
    "    num1 = 0\n",
    "    num2 = 0\n",
    "    num = 0\n",
    "    for i in range(n+1) :\n",
    "        if i == 0:\n",
    "            num1 = 0\n",
    "            continue\n",
    "        elif i == 1 :\n",
    "            num2 = 1\n",
    "            continue\n",
    "        else :\n",
    "            num = num1 + num2\n",
    "        \n",
    "        num1 = num2\n",
    "        num2 = num\n",
    "    \n",
    "    \n",
    "    answer = num % 1234567\n",
    "    \n",
    "    return answer"
   ]
  },
  {
   "cell_type": "code",
   "execution_count": 2,
   "metadata": {},
   "outputs": [
    {
     "data": {
      "text/plain": [
       "5"
      ]
     },
     "execution_count": 2,
     "metadata": {},
     "output_type": "execute_result"
    }
   ],
   "source": [
    "n = 5\n",
    "\n",
    "# 목표 return\n",
    "result = 5\n",
    "\n",
    "# 확인\n",
    "solution(n)"
   ]
  },
  {
   "cell_type": "code",
   "execution_count": 4,
   "metadata": {},
   "outputs": [
    {
     "data": {
      "text/plain": [
       "1168141"
      ]
     },
     "execution_count": 4,
     "metadata": {},
     "output_type": "execute_result"
    }
   ],
   "source": [
    "n = 100000\n",
    "\n",
    "solution(n)"
   ]
  }
 ],
 "metadata": {
  "kernelspec": {
   "display_name": "Python 3.9.12 ('base')",
   "language": "python",
   "name": "python3"
  },
  "language_info": {
   "codemirror_mode": {
    "name": "ipython",
    "version": 3
   },
   "file_extension": ".py",
   "mimetype": "text/x-python",
   "name": "python",
   "nbconvert_exporter": "python",
   "pygments_lexer": "ipython3",
   "version": "3.9.12"
  },
  "orig_nbformat": 4,
  "vscode": {
   "interpreter": {
    "hash": "56408a2f82543ad884ae74521a5fc54f2325c8b045fd0e35486190a44d515172"
   }
  }
 },
 "nbformat": 4,
 "nbformat_minor": 2
}
