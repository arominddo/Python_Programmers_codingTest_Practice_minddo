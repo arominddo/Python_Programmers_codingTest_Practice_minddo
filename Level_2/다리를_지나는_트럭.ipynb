{
 "cells": [
  {
   "cell_type": "code",
   "execution_count": 1,
   "metadata": {},
   "outputs": [],
   "source": [
    "def solution(bridge_length, weight, truck_weights):\n",
    "    cnt = 0\n",
    "    t_finish = []\n",
    "    t_go = []\n",
    "\n",
    "    for i in range(len(truck_weights)):\n",
    "        truck_weights[i] = {truck_weights[i]:0}\n",
    "    \n",
    "    while True :\n",
    "        cnt += 1\n",
    "        if len(t_go) !=0 :\n",
    "            if t_go[0][list(t_go[0].keys())[0]] + 1 > bridge_length:\n",
    "                t_go[0][list(t_go[0].keys())[0]] = t_go[0][list(t_go[0].keys())[0]] + 1\n",
    "                del t_go[0]    \n",
    "        if len(truck_weights) != 0:\n",
    "            if ((sum(list(map(lambda x:list(x.keys())[0],t_go))) + (list(truck_weights[0].keys())[0])) <= weight):\n",
    "                t_go.append(truck_weights[0])\n",
    "                del truck_weights[0]\n",
    "        if len(t_go) !=0:\n",
    "            for i in range(len(t_go)):\n",
    "                t_go[i][list(t_go[i].keys())[0]] = t_go[i][list(t_go[i].keys())[0]] + 1\n",
    "            if t_go[0][list(t_go[0].keys())[0]] > bridge_length:\n",
    "                del t_go[0] \n",
    "        if (len(t_go) == 0) & (len(truck_weights) == 0):\n",
    "            break\n",
    "    \n",
    "    answer = cnt\n",
    "    return answer"
   ]
  },
  {
   "cell_type": "code",
   "execution_count": 4,
   "metadata": {},
   "outputs": [
    {
     "data": {
      "text/plain": [
       "8"
      ]
     },
     "execution_count": 4,
     "metadata": {},
     "output_type": "execute_result"
    }
   ],
   "source": [
    "bridge_length = 2\n",
    "weight = 10\n",
    "truck_weights = [7,4,5,6]\n",
    "# 목표 return = 8\n",
    "\n",
    "solution(bridge_length, weight, truck_weights)"
   ]
  }
 ],
 "metadata": {
  "kernelspec": {
   "display_name": "Python 3.9.12 ('base')",
   "language": "python",
   "name": "python3"
  },
  "language_info": {
   "codemirror_mode": {
    "name": "ipython",
    "version": 3
   },
   "file_extension": ".py",
   "mimetype": "text/x-python",
   "name": "python",
   "nbconvert_exporter": "python",
   "pygments_lexer": "ipython3",
   "version": "3.9.12"
  },
  "orig_nbformat": 4,
  "vscode": {
   "interpreter": {
    "hash": "56408a2f82543ad884ae74521a5fc54f2325c8b045fd0e35486190a44d515172"
   }
  }
 },
 "nbformat": 4,
 "nbformat_minor": 2
}
