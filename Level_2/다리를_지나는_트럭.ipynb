{
 "cells": [
  {
   "cell_type": "code",
   "execution_count": 1,
   "metadata": {},
   "outputs": [],
   "source": [
    "def solution(bridge_length, weight, truck_weights):\n",
    "    cnt = 0\n",
    "    t_finish = []\n",
    "    t_go = []\n",
    "\n",
    "    for i in range(len(truck_weights)):\n",
    "        truck_weights[i] = {truck_weights[i]:0}\n",
    "    \n",
    "    while True :\n",
    "        cnt += 1\n",
    "        if len(t_go) !=0 :\n",
    "            if t_go[0][list(t_go[0].keys())[0]] + 1 > bridge_length:\n",
    "                t_go[0][list(t_go[0].keys())[0]] = t_go[0][list(t_go[0].keys())[0]] + 1\n",
    "                del t_go[0]    \n",
    "        if len(truck_weights) != 0:\n",
    "            if ((sum(list(map(lambda x:list(x.keys())[0],t_go))) + (list(truck_weights[0].keys())[0])) <= weight):\n",
    "                t_go.append(truck_weights[0])\n",
    "                del truck_weights[0]\n",
    "        if len(t_go) !=0:\n",
    "            for i in range(len(t_go)):\n",
    "                t_go[i][list(t_go[i].keys())[0]] = t_go[i][list(t_go[i].keys())[0]] + 1\n",
    "            if t_go[0][list(t_go[0].keys())[0]] > bridge_length:\n",
    "                del t_go[0] \n",
    "        if (len(t_go) == 0) & (len(truck_weights) == 0):\n",
    "            break\n",
    "    \n",
    "    answer = cnt\n",
    "    return answer"
   ]
  },
  {
   "cell_type": "code",
   "execution_count": 2,
   "metadata": {},
   "outputs": [
    {
     "data": {
      "text/plain": [
       "8"
      ]
     },
     "execution_count": 2,
     "metadata": {},
     "output_type": "execute_result"
    }
   ],
   "source": [
    "bridge_length = 2\n",
    "weight = 10\n",
    "truck_weights = [7,4,5,6]\n",
    "# 목표 return = 8\n",
    "\n",
    "solution(bridge_length, weight, truck_weights)"
   ]
  },
  {
   "cell_type": "code",
   "execution_count": 1,
   "metadata": {},
   "outputs": [],
   "source": [
    "'''\n",
    "2번째 풀이\n",
    "'''\n",
    "\n",
    "def solution(bridge_length, weight, truck_weights):\n",
    "    answer = 0\n",
    "    \n",
    "    \n",
    "    tr_we = {}\n",
    "    for i in range(len(truck_weights)):\n",
    "        tr_we[i]=truck_weights[i]\n",
    "    \n",
    "    tr_li = [i for i in range(len(truck_weights))]\n",
    "    \n",
    "    doing_li = []\n",
    "    done_li = []\n",
    "    \n",
    "    cnt_dic = {}\n",
    "\n",
    "    for i in range(len(truck_weights)):\n",
    "        cnt_dic[i] = bridge_length\n",
    "        \n",
    "    def li_sum(li):\n",
    "        sum_n = 0\n",
    "        for i in range(len(li)):\n",
    "            sum_n += tr_we[li[i]]\n",
    "\n",
    "        return sum_n\n",
    "    \n",
    "    \n",
    "    cnt = 0\n",
    "    while True:\n",
    "        cnt += 1\n",
    "        for i in range(len(doing_li)):\n",
    "            cnt_dic[doing_li[i]] -= 1\n",
    "        if len(doing_li)!=0 and cnt_dic[doing_li[0]] == 0:\n",
    "            done_li.append(doing_li.pop(0))\n",
    "\n",
    "        if ((len(tr_li) == 0) and (len(done_li) == len(truck_weights))):\n",
    "            break\n",
    "\n",
    "\n",
    "        if len(doing_li)!=bridge_length and len(tr_li) != 0:\n",
    "            if (li_sum(doing_li)+tr_we[tr_li[0]])<= weight:\n",
    "                doing_li.append(tr_li.pop(0))\n",
    "    \n",
    "    answer = cnt\n",
    "    return answer"
   ]
  }
 ],
 "metadata": {
  "kernelspec": {
   "display_name": "Python 3.9.12 ('base')",
   "language": "python",
   "name": "python3"
  },
  "language_info": {
   "codemirror_mode": {
    "name": "ipython",
    "version": 3
   },
   "file_extension": ".py",
   "mimetype": "text/x-python",
   "name": "python",
   "nbconvert_exporter": "python",
   "pygments_lexer": "ipython3",
   "version": "3.9.12"
  },
  "orig_nbformat": 4,
  "vscode": {
   "interpreter": {
    "hash": "56408a2f82543ad884ae74521a5fc54f2325c8b045fd0e35486190a44d515172"
   }
  }
 },
 "nbformat": 4,
 "nbformat_minor": 2
}
