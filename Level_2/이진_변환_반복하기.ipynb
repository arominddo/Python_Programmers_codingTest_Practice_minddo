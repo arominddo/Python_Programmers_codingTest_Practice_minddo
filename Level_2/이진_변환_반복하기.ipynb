{
 "cells": [
  {
   "cell_type": "code",
   "execution_count": 1,
   "metadata": {},
   "outputs": [],
   "source": [
    "def solution(s):\n",
    "    answer = []\n",
    "    \n",
    "    re_cnt = 0\n",
    "    play_cnt = 0\n",
    "    \n",
    "    while s != \"1\" :\n",
    "        \n",
    "        play_cnt += 1\n",
    "        \n",
    "        temp = s.count(\"0\")\n",
    "        re_cnt += temp\n",
    "        \n",
    "        s = bin(len(s)-temp)[2:]\n",
    "        \n",
    "    answer.append(play_cnt)\n",
    "    answer.append(re_cnt)\n",
    "        \n",
    "        \n",
    "    return answer"
   ]
  },
  {
   "cell_type": "code",
   "execution_count": 2,
   "metadata": {},
   "outputs": [
    {
     "data": {
      "text/plain": [
       "[3, 8]"
      ]
     },
     "execution_count": 2,
     "metadata": {},
     "output_type": "execute_result"
    }
   ],
   "source": [
    "s = \"110010101001\"\n",
    "\n",
    "# 목표 result\n",
    "result = [3,8]\n",
    "\n",
    "# 확인\n",
    "solution(s)"
   ]
  }
 ],
 "metadata": {
  "kernelspec": {
   "display_name": "Python 3.9.12 ('base')",
   "language": "python",
   "name": "python3"
  },
  "language_info": {
   "codemirror_mode": {
    "name": "ipython",
    "version": 3
   },
   "file_extension": ".py",
   "mimetype": "text/x-python",
   "name": "python",
   "nbconvert_exporter": "python",
   "pygments_lexer": "ipython3",
   "version": "3.9.12"
  },
  "orig_nbformat": 4,
  "vscode": {
   "interpreter": {
    "hash": "56408a2f82543ad884ae74521a5fc54f2325c8b045fd0e35486190a44d515172"
   }
  }
 },
 "nbformat": 4,
 "nbformat_minor": 2
}
