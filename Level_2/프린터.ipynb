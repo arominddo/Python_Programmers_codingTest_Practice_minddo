{
 "cells": [
  {
   "cell_type": "code",
   "execution_count": 1,
   "metadata": {},
   "outputs": [],
   "source": [
    "def solution(priorities, location):\n",
    "    temp = priorities.copy()\n",
    "    for i in range(len(priorities)):\n",
    "        temp[i] = {i:priorities[i]}\n",
    "    while True:\n",
    "        li_temp = []\n",
    "        n = 0\n",
    "        for i in range(len(temp)):\n",
    "            li_temp.append(list(temp[i].values())[0])\n",
    "        for i in range(len(li_temp)):\n",
    "            if li_temp[i] < max(li_temp[i:]) :\n",
    "                temp.append(temp[i])\n",
    "                del temp[i]\n",
    "                n = 1\n",
    "                break\n",
    "        if n == 1 :\n",
    "            continue\n",
    "        else :\n",
    "            break\n",
    "    for i in range(len(temp)):\n",
    "        temp[i] = list(temp[i].keys())[0]\n",
    "        \n",
    "        \n",
    "        \n",
    "    answer = temp.index(location)+1\n",
    "    return answer"
   ]
  },
  {
   "cell_type": "code",
   "execution_count": 2,
   "metadata": {},
   "outputs": [
    {
     "data": {
      "text/plain": [
       "1"
      ]
     },
     "execution_count": 2,
     "metadata": {},
     "output_type": "execute_result"
    }
   ],
   "source": [
    "priorities = [2, 1, 3, 2]\n",
    "location = 2\n",
    "# 목표 return = 1\n",
    "\n",
    "solution(priorities, location)"
   ]
  }
 ],
 "metadata": {
  "kernelspec": {
   "display_name": "Python 3.9.12 ('base')",
   "language": "python",
   "name": "python3"
  },
  "language_info": {
   "codemirror_mode": {
    "name": "ipython",
    "version": 3
   },
   "file_extension": ".py",
   "mimetype": "text/x-python",
   "name": "python",
   "nbconvert_exporter": "python",
   "pygments_lexer": "ipython3",
   "version": "3.9.12"
  },
  "orig_nbformat": 4,
  "vscode": {
   "interpreter": {
    "hash": "56408a2f82543ad884ae74521a5fc54f2325c8b045fd0e35486190a44d515172"
   }
  }
 },
 "nbformat": 4,
 "nbformat_minor": 2
}
