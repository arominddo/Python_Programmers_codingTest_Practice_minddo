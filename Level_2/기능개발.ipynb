{
 "cells": [
  {
   "cell_type": "code",
   "execution_count": 1,
   "metadata": {},
   "outputs": [],
   "source": [
    "def solution(progresses, speeds):\n",
    "    cnt = 0\n",
    "    check = []\n",
    "    temp = {}\n",
    "    for i in range(len(progresses)):\n",
    "        check.append(0)\n",
    "    while True:\n",
    "        cnt += 1\n",
    "        for i in range(len(progresses)):\n",
    "            if progresses[i] < 100 :\n",
    "                progresses[i] += speeds[i]\n",
    "            if (progresses[0] >= 100) & (check[0] == 0):\n",
    "                check[0] = cnt\n",
    "            if (i != 0)&(progresses[i] >= 100) & (check[i] == 0) &(check[i-1] != 0) :\n",
    "                check[i] = cnt\n",
    "        if 0 in check:\n",
    "            continue\n",
    "        else :\n",
    "            break\n",
    "    for i in check:\n",
    "        if i not in temp:\n",
    "            temp[i] = 1\n",
    "        elif i in temp:\n",
    "            temp[i] += 1\n",
    "        \n",
    "    \n",
    "    answer = list(temp.values())\n",
    "    return answer"
   ]
  },
  {
   "cell_type": "code",
   "execution_count": 2,
   "metadata": {},
   "outputs": [
    {
     "data": {
      "text/plain": [
       "[2, 1]"
      ]
     },
     "execution_count": 2,
     "metadata": {},
     "output_type": "execute_result"
    }
   ],
   "source": [
    "\n",
    "progresses = [93, 30, 55]\n",
    "speeds = [1, 30, 5]\n",
    "# return = [2, 1]\n",
    "\n",
    "solution(progresses, speeds)"
   ]
  }
 ],
 "metadata": {
  "kernelspec": {
   "display_name": "Python 3.9.12 ('base')",
   "language": "python",
   "name": "python3"
  },
  "language_info": {
   "codemirror_mode": {
    "name": "ipython",
    "version": 3
   },
   "file_extension": ".py",
   "mimetype": "text/x-python",
   "name": "python",
   "nbconvert_exporter": "python",
   "pygments_lexer": "ipython3",
   "version": "3.9.12"
  },
  "orig_nbformat": 4,
  "vscode": {
   "interpreter": {
    "hash": "56408a2f82543ad884ae74521a5fc54f2325c8b045fd0e35486190a44d515172"
   }
  }
 },
 "nbformat": 4,
 "nbformat_minor": 2
}
